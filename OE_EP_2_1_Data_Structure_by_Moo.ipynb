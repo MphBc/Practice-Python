{
  "nbformat": 4,
  "nbformat_minor": 0,
  "metadata": {
    "colab": {
      "provenance": []
    },
    "kernelspec": {
      "name": "python3",
      "display_name": "Python 3"
    },
    "language_info": {
      "name": "python"
    }
  },
  "cells": [
    {
      "cell_type": "markdown",
      "source": [
        "**-------------------- Numeric --------------------**"
      ],
      "metadata": {
        "id": "Ugc2zSx8aLWf"
      }
    },
    {
      "cell_type": "markdown",
      "source": [
        "1| Q.1 เขียนโปรแกรมสร้างตัวแปรชื่อ numeric1 และกำหนดค่าให้เท่ากับ 5 หลังจาก\n",
        "นั้นให้ทำการพิมพ์ค่าและชนิดข้อมูลของ numeric1 ออกมา"
      ],
      "metadata": {
        "id": "e1ScM4nYZpys"
      }
    },
    {
      "cell_type": "code",
      "source": [
        "numeric1 = 5\n",
        "\n",
        "print(numeric1)\n",
        "type(numeric1)"
      ],
      "metadata": {
        "colab": {
          "base_uri": "https://localhost:8080/"
        },
        "id": "ePSxKOxlWSZK",
        "outputId": "8eb41fa1-289e-4f92-dde1-17f00d80b4b9"
      },
      "execution_count": null,
      "outputs": [
        {
          "output_type": "stream",
          "name": "stdout",
          "text": [
            "5\n"
          ]
        },
        {
          "output_type": "execute_result",
          "data": {
            "text/plain": [
              "int"
            ]
          },
          "metadata": {},
          "execution_count": 2
        }
      ]
    },
    {
      "cell_type": "markdown",
      "source": [
        "2|Q.3 เขียนโปรแกรมสร้างตัวแปรชื่อ numeric2 และกำหนดค่าให้เท่ากับ 0 หลังจาก\n",
        "นั้นให้ทำการพิมพ์ค่าและชนิดข้อมูลของ numeric2 ออกมา"
      ],
      "metadata": {
        "id": "evmMLTkxZ6wQ"
      }
    },
    {
      "cell_type": "code",
      "source": [
        "numeric2 = 0\n",
        "\n",
        "print(numeric2)\n",
        "type(numeric2)"
      ],
      "metadata": {
        "colab": {
          "base_uri": "https://localhost:8080/"
        },
        "id": "yB3K_jcIWdPQ",
        "outputId": "36962e63-b61e-4d53-88e4-bdb8f115a36d"
      },
      "execution_count": null,
      "outputs": [
        {
          "output_type": "stream",
          "name": "stdout",
          "text": [
            "0\n"
          ]
        },
        {
          "output_type": "execute_result",
          "data": {
            "text/plain": [
              "int"
            ]
          },
          "metadata": {},
          "execution_count": 3
        }
      ]
    },
    {
      "cell_type": "markdown",
      "source": [
        "3|Q.4 เขียนโปรแกรมรับอินพุต 1 ตัวที่เป็นจำนวนเต็ม หลังจากนั้นให้ทำการพิมพ์ค่า\n",
        "และชนิดข้อมูลของจำนวนที่รับออกมา"
      ],
      "metadata": {
        "id": "hrPlCpDYakHh"
      }
    },
    {
      "cell_type": "code",
      "source": [
        "x = int(input())\n",
        "\n",
        "print(type(x))"
      ],
      "metadata": {
        "colab": {
          "base_uri": "https://localhost:8080/"
        },
        "id": "_0Pukdu2Wt1K",
        "outputId": "e6366212-860f-451a-9676-88a7eb42cedb"
      },
      "execution_count": null,
      "outputs": [
        {
          "output_type": "stream",
          "name": "stdout",
          "text": [
            "5\n",
            "<class 'int'>\n"
          ]
        }
      ]
    },
    {
      "cell_type": "markdown",
      "source": [
        "4|Q.10 เขียนโปรแกรมรับอินพุต 2 ตัวที่เป็นจำนวนจริง (float 1, float2) ให้คำนวณ\n",
        "ผลบวก, ผลลบ ของจำนวนที่รับมา หลังจากนั้นให้พิมพ์ค่า\n",
        "และชนิดข้อมูลของทุกผลลัพธ์ออกมา"
      ],
      "metadata": {
        "id": "bkPtVNGKaq4I"
      }
    },
    {
      "cell_type": "code",
      "source": [
        "A = float(input())\n",
        "B = float(input())\n",
        "\n",
        "print(A+B)\n",
        "print(type(A+B))\n",
        "\n",
        "print(A-B)\n",
        "print(type(A-B))"
      ],
      "metadata": {
        "colab": {
          "base_uri": "https://localhost:8080/"
        },
        "id": "zmQlHc2LYGsx",
        "outputId": "6e814fa0-b969-4066-9381-ae562e4751d1"
      },
      "execution_count": null,
      "outputs": [
        {
          "output_type": "stream",
          "name": "stdout",
          "text": [
            "6\n",
            "5\n",
            "11.0\n",
            "<class 'float'>\n",
            "1.0\n",
            "<class 'float'>\n"
          ]
        }
      ]
    },
    {
      "cell_type": "markdown",
      "source": [
        "5|Q.11 เขียนโปรแกรมรับอินพุต 2 ตัวที่เป็นจำนวนเต็มและจำนวนจริง (int1, float1)\n",
        "ให้คำนวณผลบวก, ผลลบ ของจำนวนที่รับมา หลังจากนั้น\n",
        "ให้พิมพ์ค่าและชนิดข้อมูลของทุกผลลัพธ์ออกมา"
      ],
      "metadata": {
        "id": "A_U0mUYpb4p7"
      }
    },
    {
      "cell_type": "code",
      "source": [
        "A1 = int(input())\n",
        "B1 = int(input())\n",
        "\n",
        "print(A1+B1)\n",
        "print(type(A1+B1))\n",
        "\n",
        "print(A1-B1)\n",
        "print(type(float(A1-B1)))\n"
      ],
      "metadata": {
        "colab": {
          "base_uri": "https://localhost:8080/"
        },
        "id": "20-8Ub1PYlvV",
        "outputId": "3e6f0501-5bcd-4b30-a7ba-e0729509b7f6"
      },
      "execution_count": null,
      "outputs": [
        {
          "output_type": "stream",
          "name": "stdout",
          "text": [
            "3\n",
            "4\n",
            "7\n",
            "<class 'int'>\n",
            "-1\n",
            "<class 'float'>\n"
          ]
        }
      ]
    },
    {
      "cell_type": "markdown",
      "source": [
        "6|Q.12 เขียนโปรแกรมสร้างตัวแปรชื่อ logic1 และกำหนดค่าให้เท่ากับ True หลังจาก\n",
        "นั้นให้ทำการพิมพ์ค่าและชนิดข้อมูลของ logic1 ออกมา"
      ],
      "metadata": {
        "id": "Ts-1KGHBcA-5"
      }
    },
    {
      "cell_type": "code",
      "source": [
        "logic = True\n",
        "\n",
        "print(logic)\n",
        "print(type(logic))"
      ],
      "metadata": {
        "colab": {
          "base_uri": "https://localhost:8080/"
        },
        "id": "e4AaCWdyZrgC",
        "outputId": "6ad3fac3-fed3-4711-a945-735f4dab7e6c"
      },
      "execution_count": null,
      "outputs": [
        {
          "output_type": "stream",
          "name": "stdout",
          "text": [
            "True\n",
            "<class 'bool'>\n"
          ]
        }
      ]
    },
    {
      "cell_type": "markdown",
      "source": [
        "7|Q.14 กำหนดให้ logic1 = True และ logic2 = False เขียนโปรแกรมเพื่อนำค่าจริงทั้งสองมาดำเนินการด้วยคำสั่ง \"และ\" หลังจากนั้นให้ทำการพิมพ์ค่าความจริงที่ได้จากการดำเนินการออกมา"
      ],
      "metadata": {
        "id": "cY0SHnjvcuo6"
      }
    },
    {
      "cell_type": "code",
      "source": [
        "logic1 =True\n",
        "logic2 = False\n",
        "\n",
        "print(logic1 & logic2)"
      ],
      "metadata": {
        "colab": {
          "base_uri": "https://localhost:8080/"
        },
        "id": "TbDLHoItZ6DC",
        "outputId": "f8c61b22-80c5-4ec7-a135-c5b8eeb36992"
      },
      "execution_count": null,
      "outputs": [
        {
          "output_type": "stream",
          "name": "stdout",
          "text": [
            "False\n"
          ]
        }
      ]
    },
    {
      "cell_type": "markdown",
      "source": [
        "8|Q.15 กำหนดให้ logic1 = True และ logic2 = False เขียนโปรแกรมเพื่อนำค่าความ\n",
        "จริงทั้งสองมาดำเนินการด้วยคำสั่ง \"หรือ\" หลังจากนั้นให้ทำการพิมพ์ค่าความ\n",
        "จริงที่ได้จากการดำเนินการออกมา"
      ],
      "metadata": {
        "id": "XgTaM_HTdQYM"
      }
    },
    {
      "cell_type": "code",
      "source": [
        "logic1 = True\n",
        "logic2 = False\n",
        "\n",
        "print(logic1 | logic2)"
      ],
      "metadata": {
        "colab": {
          "base_uri": "https://localhost:8080/"
        },
        "id": "bGiJY9UPaI35",
        "outputId": "25cfcffb-380a-4fa1-c5a2-8aa4127987fc"
      },
      "execution_count": null,
      "outputs": [
        {
          "output_type": "stream",
          "name": "stdout",
          "text": [
            "True\n"
          ]
        }
      ]
    }
  ]
}