{
  "nbformat": 4,
  "nbformat_minor": 0,
  "metadata": {
    "colab": {
      "provenance": []
    },
    "kernelspec": {
      "name": "python3",
      "display_name": "Python 3"
    },
    "language_info": {
      "name": "python"
    }
  },
  "cells": [
    {
      "cell_type": "markdown",
      "source": [
        "Q.1 Hello World"
      ],
      "metadata": {
        "id": "bIa2Unfk08ze"
      }
    },
    {
      "cell_type": "code",
      "source": [
        "print(\"Hello World\")"
      ],
      "metadata": {
        "colab": {
          "base_uri": "https://localhost:8080/"
        },
        "id": "iICv6bGUtnJx",
        "outputId": "e730ffc5-a713-4eb6-d17b-92fb723cfb27"
      },
      "execution_count": null,
      "outputs": [
        {
          "output_type": "stream",
          "name": "stdout",
          "text": [
            "Hello World\n"
          ]
        }
      ]
    },
    {
      "cell_type": "markdown",
      "source": [
        "Q.2 Merry X'mas"
      ],
      "metadata": {
        "id": "wkvTQzv31g6g"
      }
    },
    {
      "cell_type": "code",
      "source": [
        "print(\"Merry X'mas\")"
      ],
      "metadata": {
        "colab": {
          "base_uri": "https://localhost:8080/"
        },
        "id": "JojE_hQRtreD",
        "outputId": "d15b3b69-a97d-4d1b-8605-e947f8dc2d27"
      },
      "execution_count": null,
      "outputs": [
        {
          "output_type": "stream",
          "name": "stdout",
          "text": [
            "Merry X'mas\n"
          ]
        }
      ]
    },
    {
      "cell_type": "markdown",
      "source": [
        "Q.3 I want to ask you \"Why don't you drive to work ?\""
      ],
      "metadata": {
        "id": "w5pFA5da1nqM"
      }
    },
    {
      "cell_type": "code",
      "source": [
        "print('I want to ask you' + '''\"Why don't you drive to work ?\"''')"
      ],
      "metadata": {
        "colab": {
          "base_uri": "https://localhost:8080/"
        },
        "id": "vRObA3cDGw6Z",
        "outputId": "f8fde77e-0f3c-4675-a113-8cc229b1fd89"
      },
      "execution_count": null,
      "outputs": [
        {
          "output_type": "stream",
          "name": "stdout",
          "text": [
            "I want to ask you\"Why don't you drive to work ?\"\n"
          ]
        }
      ]
    },
    {
      "cell_type": "markdown",
      "source": [
        "Q.4 ความแตกต่างระหว่างคนเก่งกับคนไม่เก่ง คือ \"การใช้เวลาว่างให้เป็นประโยชน์\""
      ],
      "metadata": {
        "id": "h_Hvtj6K16NF"
      }
    },
    {
      "cell_type": "code",
      "source": [
        "print('ความแตกต่างระหว่างคนเก่งกับคนไม่เก่ง คือ ' + '\"การใช้เวลาว่างให้เป็นประโยชน์\"')"
      ],
      "metadata": {
        "colab": {
          "base_uri": "https://localhost:8080/"
        },
        "id": "Onv1xp1AW2NL",
        "outputId": "c685e6be-d821-4537-e76e-0d24bdd210da"
      },
      "execution_count": null,
      "outputs": [
        {
          "output_type": "stream",
          "name": "stdout",
          "text": [
            "ความแตกต่างระหว่างคนเก่งกับคนไม่เก่ง คือ \"การใช้เวลาว่างให้เป็นประโยชน์\"\n"
          ]
        }
      ]
    },
    {
      "cell_type": "markdown",
      "source": [
        "Q.5\n",
        "<br>a<br> an<br> ant"
      ],
      "metadata": {
        "id": "jaA-dd3R14dr"
      }
    },
    {
      "cell_type": "code",
      "source": [
        "print(\"a \\n\"\n",
        "      \"an \\n\"\n",
        "      \"ant\")"
      ],
      "metadata": {
        "colab": {
          "base_uri": "https://localhost:8080/"
        },
        "id": "DJwXfg5Cb5O_",
        "outputId": "f5258ef2-e475-46d7-9692-d285f31acc43"
      },
      "execution_count": null,
      "outputs": [
        {
          "output_type": "stream",
          "name": "stdout",
          "text": [
            "a \n",
            "an \n",
            "ant\n"
          ]
        }
      ]
    },
    {
      "cell_type": "markdown",
      "source": [
        "Q.6\n",
        "<br>a = 2\n",
        "b = 3 <br>\n",
        "2 x 3 = 6"
      ],
      "metadata": {
        "id": "arB9D0aL2Ers"
      }
    },
    {
      "cell_type": "code",
      "source": [
        "a = 2\n",
        "b = 3\n",
        "\n",
        "print(\"a = 2 b = 3\")\n",
        "print(f\"{a} X {b} = {a*b}\")"
      ],
      "metadata": {
        "colab": {
          "base_uri": "https://localhost:8080/"
        },
        "id": "hi4krKZh61F9",
        "outputId": "89cf3b80-b2b4-4242-fed1-77060b026f5e"
      },
      "execution_count": null,
      "outputs": [
        {
          "output_type": "stream",
          "name": "stdout",
          "text": [
            "a = 2 b = 3\n",
            "2 X 3 = 6\n"
          ]
        }
      ]
    },
    {
      "cell_type": "markdown",
      "source": [
        "Q.7 100.000000"
      ],
      "metadata": {
        "id": "ycQZw0Hk3xNd"
      }
    },
    {
      "cell_type": "code",
      "source": [
        "num = float(100)\n",
        "\n",
        "x = \"%.6f\" % num\n",
        "\n",
        "print(x)"
      ],
      "metadata": {
        "colab": {
          "base_uri": "https://localhost:8080/"
        },
        "id": "5xf1F8yUXn_4",
        "outputId": "2826caa7-1c6d-4844-f18a-5aad13406dd9"
      },
      "execution_count": null,
      "outputs": [
        {
          "output_type": "stream",
          "name": "stdout",
          "text": [
            "100.000000\n"
          ]
        }
      ]
    },
    {
      "cell_type": "markdown",
      "source": [
        "Q.8 <br>a = 2\n",
        "<br>b = 3\n",
        "<br>2 + 3 = 3 + 2 = 5 #Print แบบใช้ตัวแปร"
      ],
      "metadata": {
        "id": "-1oYe1XU3zMC"
      }
    },
    {
      "cell_type": "code",
      "source": [
        "a = 2\n",
        "b = 3\n",
        "\n",
        "print(\"a = 2\\nb = 3\")\n",
        "print(f\"{a} + {b} = {b} + {a} = {a+b}\")"
      ],
      "metadata": {
        "colab": {
          "base_uri": "https://localhost:8080/"
        },
        "id": "YpJzee5FfFct",
        "outputId": "7eac6a71-2423-49b4-b601-7bddd6cf848c"
      },
      "execution_count": null,
      "outputs": [
        {
          "output_type": "stream",
          "name": "stdout",
          "text": [
            "a = 2\n",
            "b = 3\n",
            "2 + 3 = 3 + 2 = 5\n"
          ]
        }
      ]
    },
    {
      "cell_type": "markdown",
      "source": [
        "Q.9\n",
        "<br>a = 2.4\n",
        "<br>b = 2.5\n",
        "<br>2.4 + 2.5 = 4.9000 #Print แบบใช้ตัวแปร และแสดงทศนิยมที่คำตอบ"
      ],
      "metadata": {
        "id": "CsYDvcgE4aUj"
      }
    },
    {
      "cell_type": "code",
      "source": [
        "a = 2.4\n",
        "b = 2.5\n",
        "c = float(a + b)\n",
        "d = \"%.4f\"%c\n",
        "\n",
        "print(\"a = 2.4\\nb = 2.5\")\n",
        "print(f\"{a} + {b} = {d}\")"
      ],
      "metadata": {
        "colab": {
          "base_uri": "https://localhost:8080/"
        },
        "id": "jKjpzT5uvYTR",
        "outputId": "e3799f08-cae6-4371-c98d-f3211aad69a9"
      },
      "execution_count": null,
      "outputs": [
        {
          "output_type": "stream",
          "name": "stdout",
          "text": [
            "a = 2.4\n",
            "b = 2.5\n",
            "2.4 + 2.5 = 4.9000\n"
          ]
        }
      ]
    },
    {
      "cell_type": "markdown",
      "source": [
        "Q.10\n",
        "<br>a = 5\n",
        "<br>b = 100\n",
        "<br>5 เท่าของ 100 มีค่าเท่ากับ 500 #Print แบบใช้ตัวแปร ผสมกับข้อความ"
      ],
      "metadata": {
        "id": "LfgydvMp4tvX"
      }
    },
    {
      "cell_type": "code",
      "source": [
        "a = 5\n",
        "b = 100\n",
        "\n",
        "print(\"a = 5\\nb = 100\")\n",
        "print(f\"{a} เท่าของ {b} มีค่าเท่ากับ {5*100}\")"
      ],
      "metadata": {
        "colab": {
          "base_uri": "https://localhost:8080/"
        },
        "id": "mCY88cQFvW_N",
        "outputId": "ff5e3d09-26ee-4a43-c348-6f0a5ff3f300"
      },
      "execution_count": null,
      "outputs": [
        {
          "output_type": "stream",
          "name": "stdout",
          "text": [
            "a = 5\n",
            "b = 100\n",
            "5 เท่าของ 100 มีค่าเท่ากับ 500\n"
          ]
        }
      ]
    }
  ]
}